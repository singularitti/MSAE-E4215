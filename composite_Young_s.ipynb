{
  "cells": [
    {
      "cell_type": "code",
      "source": [
        "import numpy as np\n",
        "import matplotlib.pyplot as plt\n",
        "from sympy import *\n",
        "from sympy.interactive import printing\n",
        "\n",
        "printing.init_printing(use_latex=True)\n",
        "\n",
        "e1, e1a, e1b = symbols('\\\\varepsilon_{1},\\\\varepsilon_{1A},\\\\varepsilon_{1B}')\n",
        "s1, s1a, s1b = symbols('\\\\sigma_1,\\\\sigma_{1A},\\\\sigma_{1B}')\n",
        "e2, e2a, e2b = symbols('\\\\varepsilon_2,\\\\varepsilon_{2A},\\\\varepsilon_{2B}')\n",
        "s2, s2a, s2b = symbols('\\\\sigma_2,\\\\sigma_{2A},\\\\sigma_{2B}')\n",
        "e3, e3a, e3b = symbols('\\\\varepsilon_3,\\\\varepsilon_{3A},\\\\varepsilon_{3B}')\n",
        "s3, s3a, s3b = symbols('\\\\sigma_3,\\\\sigma_{3A},\\\\sigma_{3B}')\n",
        "Ea, Eb, nua, nub, Va, Vb = symbols('E_A,E_B,\\\\nu_{A},\\\\nu_{B},V_{A},V_{B}')"
      ],
      "outputs": [],
      "execution_count": 16,
      "metadata": {
        "collapsed": false,
        "outputHidden": false,
        "inputHidden": false
      }
    },
    {
      "cell_type": "code",
      "source": [
        "s2a = (nua*Eb - nub*Ea)*s3a*Vb/( (1-nua)*Vb*Eb + (1-nub)*Va*Ea )\n",
        "s2b = -(nua*Eb - nub*Ea)*s3a*Va/( (1-nua)*Vb*Eb + (1-nub)*Va*Ea )\n",
        "e3a = s3a/Ea - 2*nua/Ea*s2a\n",
        "e3b = s3b/Eb - 2*nub/Eb*s2b"
      ],
      "outputs": [],
      "execution_count": 17,
      "metadata": {
        "collapsed": false,
        "outputHidden": false,
        "inputHidden": false
      }
    },
    {
      "cell_type": "code",
      "source": [
        "e3 = Va*e3a + Vb*e3b"
      ],
      "outputs": [],
      "execution_count": 18,
      "metadata": {
        "collapsed": false,
        "outputHidden": false,
        "inputHidden": false
      }
    },
    {
      "cell_type": "code",
      "source": [
        "s3a = s3b = s3"
      ],
      "outputs": [],
      "execution_count": 19,
      "metadata": {
        "collapsed": false,
        "outputHidden": false,
        "inputHidden": false
      }
    },
    {
      "cell_type": "code",
      "source": [
        "def Ec(Vb):\n",
        "    return simplify(s3 / e3)"
      ],
      "outputs": [],
      "execution_count": 24,
      "metadata": {
        "collapsed": false,
        "outputHidden": false,
        "inputHidden": false
      }
    },
    {
      "cell_type": "code",
      "source": [
        "simplify(Va/Ea + Vb/Eb - 2*Va*Vb/Ea/Eb * (nua*Eb-nub*Ea)**2/( (1-nua)*Vb*Eb + (1-nub)*Va*Ea ) - s3 / e3)"
      ],
      "outputs": [
        {
          "output_type": "execute_result",
          "execution_count": 21,
          "data": {
            "text/plain": [
              "                                                                              \n",
              "                                                                             \\\n",
              "──────────────────────────────────────────────────────────────────────────────\n",
              "      ⎛  2⋅V_{B}⋅\\nu_{A}⋅\\sigma_{3A}⋅(E_A⋅\\nu_{B} - E_B⋅\\nu_{A})    \\sigma_{3A\n",
              "V_{A}⋅⎜- ──────────────────────────────────────────────────────── - ──────────\n",
              "      ⎝  E_A⋅(-E_A⋅V_{A}⋅(\\nu_{B} - 1) - E_B⋅V_{B}⋅(\\nu_{A} - 1))       E_A   \n",
              "\n",
              "                                                                              \n",
              "sigma₃                                                                        \n",
              "──────────────────────────────────────────────────────────────────────────────\n",
              "}⎞         ⎛2⋅V_{A}⋅\\nu_{B}⋅\\sigma_{3A}⋅(E_A⋅\\nu_{B} - E_B⋅\\nu_{A})    \\sigma_\n",
              "─⎟ + V_{B}⋅⎜──────────────────────────────────────────────────────── - ───────\n",
              " ⎠         ⎝E_B⋅(-E_A⋅V_{A}⋅(\\nu_{B} - 1) - E_B⋅V_{B}⋅(\\nu_{A} - 1))       E_B\n",
              "\n",
              "                                                                          2   \n",
              "        V_{B}   V_{A}            2⋅V_{A}⋅V_{B}⋅(E_A⋅\\nu_{B} - E_B⋅\\nu_{A})    \n",
              "───── + ───── + ───── + ──────────────────────────────────────────────────────\n",
              "{3B}⎞    E_B     E_A    E_A⋅E_B⋅(E_A⋅V_{A}⋅(\\nu_{B} - 1) + E_B⋅V_{B}⋅(\\nu_{A} \n",
              "────⎟                                                                         \n",
              "    ⎠                                                                         \n",
              "\n",
              "     \n",
              "     \n",
              "─────\n",
              "- 1))\n",
              "     \n",
              "     "
            ],
            "image/png": "[encoded data removed]",
            "text/latex": [
              "$$\\frac{\\sigma_3}{V_{A} \\left(- \\frac{2 V_{B} \\nu_{A} \\sigma_{3A} \\left(E_{A} \\nu_{B} - E_{B} \\nu_{A}\\right)}{E_{A} \\left(- E_{A} V_{A} \\left(\\nu_{B} - 1\\right) - E_{B} V_{B} \\left(\\nu_{A} - 1\\right)\\right)} - \\frac{\\sigma_{3A}}{E_{A}}\\right) + V_{B} \\left(\\frac{2 V_{A} \\nu_{B} \\sigma_{3A} \\left(E_{A} \\nu_{B} - E_{B} \\nu_{A}\\right)}{E_{B} \\left(- E_{A} V_{A} \\left(\\nu_{B} - 1\\right) - E_{B} V_{B} \\left(\\nu_{A} - 1\\right)\\right)} - \\frac{\\sigma_{3B}}{E_{B}}\\right)} + \\frac{V_{B}}{E_{B}} + \\frac{V_{A}}{E_{A}} + \\frac{2 V_{A} V_{B} \\left(E_{A} \\nu_{B} - E_{B} \\nu_{A}\\right)^{2}}{E_{A} E_{B} \\left(E_{A} V_{A} \\left(\\nu_{B} - 1\\right) + E_{B} V_{B} \\left(\\nu_{A} - 1\\right)\\right)}$$"
            ]
          },
          "metadata": {}
        }
      ],
      "execution_count": 21,
      "metadata": {
        "collapsed": false,
        "outputHidden": false,
        "inputHidden": false
      }
    }
  ],
  "metadata": {
    "kernelspec": {
      "name": "python3",
      "language": "python",
      "display_name": "Python 3"
    },
    "kernel_info": {
      "name": "python3"
    },
    "language_info": {
      "name": "python",
      "version": "3.6.1",
      "mimetype": "text/x-python",
      "codemirror_mode": {
        "name": "ipython",
        "version": 3
      },
      "pygments_lexer": "ipython3",
      "nbconvert_exporter": "python",
      "file_extension": ".py"
    }
  },
  "nbformat": 4,
  "nbformat_minor": 4
}